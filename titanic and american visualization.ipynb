{
 "cells": [
  {
   "cell_type": "code",
   "execution_count": 1,
   "id": "137ef512",
   "metadata": {
    "_cell_guid": "b1076dfc-b9ad-4769-8c92-a6c4dae69d19",
    "_uuid": "8f2839f25d086af736a60e9eeb907d3b93b6e0e5",
    "execution": {
     "iopub.execute_input": "2022-11-10T09:47:30.840359Z",
     "iopub.status.busy": "2022-11-10T09:47:30.839234Z",
     "iopub.status.idle": "2022-11-10T09:47:30.861058Z",
     "shell.execute_reply": "2022-11-10T09:47:30.858964Z"
    },
    "papermill": {
     "duration": 0.036281,
     "end_time": "2022-11-10T09:47:30.865951",
     "exception": false,
     "start_time": "2022-11-10T09:47:30.829670",
     "status": "completed"
    },
    "tags": []
   },
   "outputs": [
    {
     "name": "stdout",
     "output_type": "stream",
     "text": [
      "/kaggle/input/titanic/train.csv\n",
      "/kaggle/input/titanic/test.csv\n",
      "/kaggle/input/titanic/gender_submission.csv\n",
      "/kaggle/input/amex-default-prediction/sample_submission.csv\n",
      "/kaggle/input/amex-default-prediction/train_data.csv\n",
      "/kaggle/input/amex-default-prediction/test_data.csv\n",
      "/kaggle/input/amex-default-prediction/train_labels.csv\n"
     ]
    }
   ],
   "source": [
    "# This Python 3 environment comes with many helpful analytics libraries installed\n",
    "# It is defined by the kaggle/python Docker image: https://github.com/kaggle/docker-python\n",
    "# For example, here's several helpful packages to load\n",
    "\n",
    "import numpy as np # linear algebra\n",
    "import pandas as pd # data processing, CSV file I/O (e.g. pd.read_csv)\n",
    "\n",
    "# Input data files are available in the read-only \"../input/\" directory\n",
    "# For example, running this (by clicking run or pressing Shift+Enter) will list all files under the input directory\n",
    "\n",
    "import os\n",
    "for dirname, _, filenames in os.walk('/kaggle/input'):\n",
    "    for filename in filenames:\n",
    "        print(os.path.join(dirname, filename))\n",
    "\n",
    "# You can write up to 20GB to the current directory (/kaggle/working/) that gets preserved as output when you create a version using \"Save & Run All\" \n",
    "# You can also write temporary files to /kaggle/temp/, but they won't be saved outside of the current session"
   ]
  },
  {
   "cell_type": "code",
   "execution_count": 2,
   "id": "b259996a",
   "metadata": {
    "execution": {
     "iopub.execute_input": "2022-11-10T09:47:30.880582Z",
     "iopub.status.busy": "2022-11-10T09:47:30.879948Z",
     "iopub.status.idle": "2022-11-10T09:47:32.217404Z",
     "shell.execute_reply": "2022-11-10T09:47:32.216393Z"
    },
    "papermill": {
     "duration": 1.348055,
     "end_time": "2022-11-10T09:47:32.220313",
     "exception": false,
     "start_time": "2022-11-10T09:47:30.872258",
     "status": "completed"
    },
    "tags": []
   },
   "outputs": [],
   "source": [
    "import numpy as np \n",
    "import pandas as pd \n",
    "import seaborn as sns\n",
    "import matplotlib as plt"
   ]
  },
  {
   "cell_type": "code",
   "execution_count": 3,
   "id": "22668988",
   "metadata": {
    "execution": {
     "iopub.execute_input": "2022-11-10T09:47:32.234408Z",
     "iopub.status.busy": "2022-11-10T09:47:32.233920Z",
     "iopub.status.idle": "2022-11-10T09:47:32.291367Z",
     "shell.execute_reply": "2022-11-10T09:47:32.290299Z"
    },
    "papermill": {
     "duration": 0.068695,
     "end_time": "2022-11-10T09:47:32.295136",
     "exception": false,
     "start_time": "2022-11-10T09:47:32.226441",
     "status": "completed"
    },
    "tags": []
   },
   "outputs": [],
   "source": [
    "df=pd.read_csv(\"../input/amex-default-prediction/train_data.csv\", nrows=200)"
   ]
  },
  {
   "cell_type": "code",
   "execution_count": 4,
   "id": "4b27c82c",
   "metadata": {
    "execution": {
     "iopub.execute_input": "2022-11-10T09:47:32.308959Z",
     "iopub.status.busy": "2022-11-10T09:47:32.308520Z",
     "iopub.status.idle": "2022-11-10T09:47:32.360008Z",
     "shell.execute_reply": "2022-11-10T09:47:32.358286Z"
    },
    "papermill": {
     "duration": 0.062096,
     "end_time": "2022-11-10T09:47:32.363118",
     "exception": false,
     "start_time": "2022-11-10T09:47:32.301022",
     "status": "completed"
    },
    "tags": []
   },
   "outputs": [
    {
     "data": {
      "text/html": [
       "<div>\n",
       "<style scoped>\n",
       "    .dataframe tbody tr th:only-of-type {\n",
       "        vertical-align: middle;\n",
       "    }\n",
       "\n",
       "    .dataframe tbody tr th {\n",
       "        vertical-align: top;\n",
       "    }\n",
       "\n",
       "    .dataframe thead th {\n",
       "        text-align: right;\n",
       "    }\n",
       "</style>\n",
       "<table border=\"1\" class=\"dataframe\">\n",
       "  <thead>\n",
       "    <tr style=\"text-align: right;\">\n",
       "      <th></th>\n",
       "      <th>customer_ID</th>\n",
       "      <th>S_2</th>\n",
       "      <th>P_2</th>\n",
       "      <th>D_39</th>\n",
       "      <th>B_1</th>\n",
       "      <th>B_2</th>\n",
       "      <th>R_1</th>\n",
       "      <th>S_3</th>\n",
       "      <th>D_41</th>\n",
       "      <th>B_3</th>\n",
       "      <th>...</th>\n",
       "      <th>D_136</th>\n",
       "      <th>D_137</th>\n",
       "      <th>D_138</th>\n",
       "      <th>D_139</th>\n",
       "      <th>D_140</th>\n",
       "      <th>D_141</th>\n",
       "      <th>D_142</th>\n",
       "      <th>D_143</th>\n",
       "      <th>D_144</th>\n",
       "      <th>D_145</th>\n",
       "    </tr>\n",
       "  </thead>\n",
       "  <tbody>\n",
       "    <tr>\n",
       "      <th>0</th>\n",
       "      <td>0000099d6bd597052cdcda90ffabf56573fe9d7c79be5f...</td>\n",
       "      <td>2017-03-09</td>\n",
       "      <td>0.938469</td>\n",
       "      <td>0.001733</td>\n",
       "      <td>0.008724</td>\n",
       "      <td>1.006838</td>\n",
       "      <td>0.009228</td>\n",
       "      <td>0.124035</td>\n",
       "      <td>0.008771</td>\n",
       "      <td>0.004709</td>\n",
       "      <td>...</td>\n",
       "      <td>NaN</td>\n",
       "      <td>NaN</td>\n",
       "      <td>NaN</td>\n",
       "      <td>0.002427</td>\n",
       "      <td>0.003706</td>\n",
       "      <td>0.003818</td>\n",
       "      <td>NaN</td>\n",
       "      <td>0.000569</td>\n",
       "      <td>0.000610</td>\n",
       "      <td>0.002674</td>\n",
       "    </tr>\n",
       "    <tr>\n",
       "      <th>1</th>\n",
       "      <td>0000099d6bd597052cdcda90ffabf56573fe9d7c79be5f...</td>\n",
       "      <td>2017-04-07</td>\n",
       "      <td>0.936665</td>\n",
       "      <td>0.005775</td>\n",
       "      <td>0.004923</td>\n",
       "      <td>1.000653</td>\n",
       "      <td>0.006151</td>\n",
       "      <td>0.126750</td>\n",
       "      <td>0.000798</td>\n",
       "      <td>0.002714</td>\n",
       "      <td>...</td>\n",
       "      <td>NaN</td>\n",
       "      <td>NaN</td>\n",
       "      <td>NaN</td>\n",
       "      <td>0.003954</td>\n",
       "      <td>0.003167</td>\n",
       "      <td>0.005032</td>\n",
       "      <td>NaN</td>\n",
       "      <td>0.009576</td>\n",
       "      <td>0.005492</td>\n",
       "      <td>0.009217</td>\n",
       "    </tr>\n",
       "    <tr>\n",
       "      <th>2</th>\n",
       "      <td>0000099d6bd597052cdcda90ffabf56573fe9d7c79be5f...</td>\n",
       "      <td>2017-05-28</td>\n",
       "      <td>0.954180</td>\n",
       "      <td>0.091505</td>\n",
       "      <td>0.021655</td>\n",
       "      <td>1.009672</td>\n",
       "      <td>0.006815</td>\n",
       "      <td>0.123977</td>\n",
       "      <td>0.007598</td>\n",
       "      <td>0.009423</td>\n",
       "      <td>...</td>\n",
       "      <td>NaN</td>\n",
       "      <td>NaN</td>\n",
       "      <td>NaN</td>\n",
       "      <td>0.003269</td>\n",
       "      <td>0.007329</td>\n",
       "      <td>0.000427</td>\n",
       "      <td>NaN</td>\n",
       "      <td>0.003429</td>\n",
       "      <td>0.006986</td>\n",
       "      <td>0.002603</td>\n",
       "    </tr>\n",
       "    <tr>\n",
       "      <th>3</th>\n",
       "      <td>0000099d6bd597052cdcda90ffabf56573fe9d7c79be5f...</td>\n",
       "      <td>2017-06-13</td>\n",
       "      <td>0.960384</td>\n",
       "      <td>0.002455</td>\n",
       "      <td>0.013683</td>\n",
       "      <td>1.002700</td>\n",
       "      <td>0.001373</td>\n",
       "      <td>0.117169</td>\n",
       "      <td>0.000685</td>\n",
       "      <td>0.005531</td>\n",
       "      <td>...</td>\n",
       "      <td>NaN</td>\n",
       "      <td>NaN</td>\n",
       "      <td>NaN</td>\n",
       "      <td>0.006117</td>\n",
       "      <td>0.004516</td>\n",
       "      <td>0.003200</td>\n",
       "      <td>NaN</td>\n",
       "      <td>0.008419</td>\n",
       "      <td>0.006527</td>\n",
       "      <td>0.009600</td>\n",
       "    </tr>\n",
       "    <tr>\n",
       "      <th>4</th>\n",
       "      <td>0000099d6bd597052cdcda90ffabf56573fe9d7c79be5f...</td>\n",
       "      <td>2017-07-16</td>\n",
       "      <td>0.947248</td>\n",
       "      <td>0.002483</td>\n",
       "      <td>0.015193</td>\n",
       "      <td>1.000727</td>\n",
       "      <td>0.007605</td>\n",
       "      <td>0.117325</td>\n",
       "      <td>0.004653</td>\n",
       "      <td>0.009312</td>\n",
       "      <td>...</td>\n",
       "      <td>NaN</td>\n",
       "      <td>NaN</td>\n",
       "      <td>NaN</td>\n",
       "      <td>0.003671</td>\n",
       "      <td>0.004946</td>\n",
       "      <td>0.008889</td>\n",
       "      <td>NaN</td>\n",
       "      <td>0.001670</td>\n",
       "      <td>0.008126</td>\n",
       "      <td>0.009827</td>\n",
       "    </tr>\n",
       "    <tr>\n",
       "      <th>...</th>\n",
       "      <td>...</td>\n",
       "      <td>...</td>\n",
       "      <td>...</td>\n",
       "      <td>...</td>\n",
       "      <td>...</td>\n",
       "      <td>...</td>\n",
       "      <td>...</td>\n",
       "      <td>...</td>\n",
       "      <td>...</td>\n",
       "      <td>...</td>\n",
       "      <td>...</td>\n",
       "      <td>...</td>\n",
       "      <td>...</td>\n",
       "      <td>...</td>\n",
       "      <td>...</td>\n",
       "      <td>...</td>\n",
       "      <td>...</td>\n",
       "      <td>...</td>\n",
       "      <td>...</td>\n",
       "      <td>...</td>\n",
       "      <td>...</td>\n",
       "    </tr>\n",
       "    <tr>\n",
       "      <th>195</th>\n",
       "      <td>000201146e53cacdde1c7e9d29f4d3c46fd4d9231a3744...</td>\n",
       "      <td>2018-01-03</td>\n",
       "      <td>0.899468</td>\n",
       "      <td>0.210492</td>\n",
       "      <td>0.023006</td>\n",
       "      <td>1.002391</td>\n",
       "      <td>0.008684</td>\n",
       "      <td>0.105592</td>\n",
       "      <td>0.004492</td>\n",
       "      <td>0.582447</td>\n",
       "      <td>...</td>\n",
       "      <td>NaN</td>\n",
       "      <td>NaN</td>\n",
       "      <td>NaN</td>\n",
       "      <td>0.009805</td>\n",
       "      <td>0.006723</td>\n",
       "      <td>0.006261</td>\n",
       "      <td>NaN</td>\n",
       "      <td>0.002071</td>\n",
       "      <td>0.008596</td>\n",
       "      <td>0.009263</td>\n",
       "    </tr>\n",
       "    <tr>\n",
       "      <th>196</th>\n",
       "      <td>000201146e53cacdde1c7e9d29f4d3c46fd4d9231a3744...</td>\n",
       "      <td>2018-02-02</td>\n",
       "      <td>0.894790</td>\n",
       "      <td>0.212468</td>\n",
       "      <td>0.163463</td>\n",
       "      <td>0.592315</td>\n",
       "      <td>0.009281</td>\n",
       "      <td>0.105845</td>\n",
       "      <td>0.005987</td>\n",
       "      <td>0.390202</td>\n",
       "      <td>...</td>\n",
       "      <td>NaN</td>\n",
       "      <td>NaN</td>\n",
       "      <td>NaN</td>\n",
       "      <td>0.002574</td>\n",
       "      <td>0.005105</td>\n",
       "      <td>0.001351</td>\n",
       "      <td>NaN</td>\n",
       "      <td>0.008515</td>\n",
       "      <td>0.006459</td>\n",
       "      <td>0.008376</td>\n",
       "    </tr>\n",
       "    <tr>\n",
       "      <th>197</th>\n",
       "      <td>000201146e53cacdde1c7e9d29f4d3c46fd4d9231a3744...</td>\n",
       "      <td>2018-03-01</td>\n",
       "      <td>0.955898</td>\n",
       "      <td>0.182730</td>\n",
       "      <td>0.171452</td>\n",
       "      <td>0.047638</td>\n",
       "      <td>0.001715</td>\n",
       "      <td>0.108122</td>\n",
       "      <td>0.009618</td>\n",
       "      <td>0.454871</td>\n",
       "      <td>...</td>\n",
       "      <td>NaN</td>\n",
       "      <td>NaN</td>\n",
       "      <td>NaN</td>\n",
       "      <td>0.004413</td>\n",
       "      <td>0.004494</td>\n",
       "      <td>0.002725</td>\n",
       "      <td>NaN</td>\n",
       "      <td>0.000022</td>\n",
       "      <td>0.002604</td>\n",
       "      <td>0.008785</td>\n",
       "    </tr>\n",
       "    <tr>\n",
       "      <th>198</th>\n",
       "      <td>0002d381bdd8048d76719042cf1eb63caf53b636f8aacd...</td>\n",
       "      <td>2017-03-19</td>\n",
       "      <td>1.007809</td>\n",
       "      <td>0.002568</td>\n",
       "      <td>0.017698</td>\n",
       "      <td>0.816354</td>\n",
       "      <td>0.000443</td>\n",
       "      <td>0.345746</td>\n",
       "      <td>0.002354</td>\n",
       "      <td>0.007117</td>\n",
       "      <td>...</td>\n",
       "      <td>NaN</td>\n",
       "      <td>NaN</td>\n",
       "      <td>NaN</td>\n",
       "      <td>0.006032</td>\n",
       "      <td>0.009890</td>\n",
       "      <td>0.001779</td>\n",
       "      <td>NaN</td>\n",
       "      <td>0.005518</td>\n",
       "      <td>0.003225</td>\n",
       "      <td>0.002189</td>\n",
       "    </tr>\n",
       "    <tr>\n",
       "      <th>199</th>\n",
       "      <td>0002d381bdd8048d76719042cf1eb63caf53b636f8aacd...</td>\n",
       "      <td>2017-04-18</td>\n",
       "      <td>1.003812</td>\n",
       "      <td>0.003285</td>\n",
       "      <td>0.018239</td>\n",
       "      <td>0.815024</td>\n",
       "      <td>0.000296</td>\n",
       "      <td>0.349112</td>\n",
       "      <td>0.004023</td>\n",
       "      <td>0.004033</td>\n",
       "      <td>...</td>\n",
       "      <td>NaN</td>\n",
       "      <td>NaN</td>\n",
       "      <td>NaN</td>\n",
       "      <td>0.006379</td>\n",
       "      <td>0.003017</td>\n",
       "      <td>0.005786</td>\n",
       "      <td>NaN</td>\n",
       "      <td>0.008199</td>\n",
       "      <td>0.008543</td>\n",
       "      <td>0.004620</td>\n",
       "    </tr>\n",
       "  </tbody>\n",
       "</table>\n",
       "<p>200 rows × 190 columns</p>\n",
       "</div>"
      ],
      "text/plain": [
       "                                           customer_ID         S_2       P_2  \\\n",
       "0    0000099d6bd597052cdcda90ffabf56573fe9d7c79be5f...  2017-03-09  0.938469   \n",
       "1    0000099d6bd597052cdcda90ffabf56573fe9d7c79be5f...  2017-04-07  0.936665   \n",
       "2    0000099d6bd597052cdcda90ffabf56573fe9d7c79be5f...  2017-05-28  0.954180   \n",
       "3    0000099d6bd597052cdcda90ffabf56573fe9d7c79be5f...  2017-06-13  0.960384   \n",
       "4    0000099d6bd597052cdcda90ffabf56573fe9d7c79be5f...  2017-07-16  0.947248   \n",
       "..                                                 ...         ...       ...   \n",
       "195  000201146e53cacdde1c7e9d29f4d3c46fd4d9231a3744...  2018-01-03  0.899468   \n",
       "196  000201146e53cacdde1c7e9d29f4d3c46fd4d9231a3744...  2018-02-02  0.894790   \n",
       "197  000201146e53cacdde1c7e9d29f4d3c46fd4d9231a3744...  2018-03-01  0.955898   \n",
       "198  0002d381bdd8048d76719042cf1eb63caf53b636f8aacd...  2017-03-19  1.007809   \n",
       "199  0002d381bdd8048d76719042cf1eb63caf53b636f8aacd...  2017-04-18  1.003812   \n",
       "\n",
       "         D_39       B_1       B_2       R_1       S_3      D_41       B_3  \\\n",
       "0    0.001733  0.008724  1.006838  0.009228  0.124035  0.008771  0.004709   \n",
       "1    0.005775  0.004923  1.000653  0.006151  0.126750  0.000798  0.002714   \n",
       "2    0.091505  0.021655  1.009672  0.006815  0.123977  0.007598  0.009423   \n",
       "3    0.002455  0.013683  1.002700  0.001373  0.117169  0.000685  0.005531   \n",
       "4    0.002483  0.015193  1.000727  0.007605  0.117325  0.004653  0.009312   \n",
       "..        ...       ...       ...       ...       ...       ...       ...   \n",
       "195  0.210492  0.023006  1.002391  0.008684  0.105592  0.004492  0.582447   \n",
       "196  0.212468  0.163463  0.592315  0.009281  0.105845  0.005987  0.390202   \n",
       "197  0.182730  0.171452  0.047638  0.001715  0.108122  0.009618  0.454871   \n",
       "198  0.002568  0.017698  0.816354  0.000443  0.345746  0.002354  0.007117   \n",
       "199  0.003285  0.018239  0.815024  0.000296  0.349112  0.004023  0.004033   \n",
       "\n",
       "     ...  D_136  D_137  D_138     D_139     D_140     D_141  D_142     D_143  \\\n",
       "0    ...    NaN    NaN    NaN  0.002427  0.003706  0.003818    NaN  0.000569   \n",
       "1    ...    NaN    NaN    NaN  0.003954  0.003167  0.005032    NaN  0.009576   \n",
       "2    ...    NaN    NaN    NaN  0.003269  0.007329  0.000427    NaN  0.003429   \n",
       "3    ...    NaN    NaN    NaN  0.006117  0.004516  0.003200    NaN  0.008419   \n",
       "4    ...    NaN    NaN    NaN  0.003671  0.004946  0.008889    NaN  0.001670   \n",
       "..   ...    ...    ...    ...       ...       ...       ...    ...       ...   \n",
       "195  ...    NaN    NaN    NaN  0.009805  0.006723  0.006261    NaN  0.002071   \n",
       "196  ...    NaN    NaN    NaN  0.002574  0.005105  0.001351    NaN  0.008515   \n",
       "197  ...    NaN    NaN    NaN  0.004413  0.004494  0.002725    NaN  0.000022   \n",
       "198  ...    NaN    NaN    NaN  0.006032  0.009890  0.001779    NaN  0.005518   \n",
       "199  ...    NaN    NaN    NaN  0.006379  0.003017  0.005786    NaN  0.008199   \n",
       "\n",
       "        D_144     D_145  \n",
       "0    0.000610  0.002674  \n",
       "1    0.005492  0.009217  \n",
       "2    0.006986  0.002603  \n",
       "3    0.006527  0.009600  \n",
       "4    0.008126  0.009827  \n",
       "..        ...       ...  \n",
       "195  0.008596  0.009263  \n",
       "196  0.006459  0.008376  \n",
       "197  0.002604  0.008785  \n",
       "198  0.003225  0.002189  \n",
       "199  0.008543  0.004620  \n",
       "\n",
       "[200 rows x 190 columns]"
      ]
     },
     "execution_count": 4,
     "metadata": {},
     "output_type": "execute_result"
    }
   ],
   "source": [
    "df"
   ]
  },
  {
   "cell_type": "code",
   "execution_count": 5,
   "id": "5e9e72f4",
   "metadata": {
    "execution": {
     "iopub.execute_input": "2022-11-10T09:47:32.379116Z",
     "iopub.status.busy": "2022-11-10T09:47:32.378618Z",
     "iopub.status.idle": "2022-11-10T09:47:32.695574Z",
     "shell.execute_reply": "2022-11-10T09:47:32.694144Z"
    },
    "papermill": {
     "duration": 0.329153,
     "end_time": "2022-11-10T09:47:32.698957",
     "exception": false,
     "start_time": "2022-11-10T09:47:32.369804",
     "status": "completed"
    },
    "tags": []
   },
   "outputs": [
    {
     "data": {
      "text/plain": [
       "<AxesSubplot:xlabel='D_39'>"
      ]
     },
     "execution_count": 5,
     "metadata": {},
     "output_type": "execute_result"
    },
    {
     "data": {
      "image/png": "[encoded data removed]",
      "text/plain": [
       "<Figure size 432x288 with 1 Axes>"
      ]
     },
     "metadata": {
      "needs_background": "light"
     },
     "output_type": "display_data"
    }
   ],
   "source": [
    "#Two numerical columns\n",
    "df.plot(x='D_39', y='P_2', style='o')"
   ]
  },
  {
   "cell_type": "code",
   "execution_count": 6,
   "id": "b043c6b1",
   "metadata": {
    "execution": {
     "iopub.execute_input": "2022-11-10T09:47:32.716347Z",
     "iopub.status.busy": "2022-11-10T09:47:32.715296Z",
     "iopub.status.idle": "2022-11-10T09:47:32.995144Z",
     "shell.execute_reply": "2022-11-10T09:47:32.993870Z"
    },
    "papermill": {
     "duration": 0.291404,
     "end_time": "2022-11-10T09:47:32.998028",
     "exception": false,
     "start_time": "2022-11-10T09:47:32.706624",
     "status": "completed"
    },
    "tags": []
   },
   "outputs": [
    {
     "data": {
      "text/plain": [
       "<AxesSubplot:xlabel='customer_ID'>"
      ]
     },
     "execution_count": 6,
     "metadata": {},
     "output_type": "execute_result"
    },
    {
     "data": {
      "image/png": "[encoded data removed]",
      "text/plain": [
       "<Figure size 432x288 with 1 Axes>"
      ]
     },
     "metadata": {
      "needs_background": "light"
     },
     "output_type": "display_data"
    }
   ],
   "source": [
    "#One numerical and one categorical\n",
    "df.plot(x='customer_ID', y='P_2',style='*')"
   ]
  },
  {
   "cell_type": "code",
   "execution_count": 7,
   "id": "034a67ff",
   "metadata": {
    "execution": {
     "iopub.execute_input": "2022-11-10T09:47:33.014331Z",
     "iopub.status.busy": "2022-11-10T09:47:33.013862Z",
     "iopub.status.idle": "2022-11-10T09:47:33.235520Z",
     "shell.execute_reply": "2022-11-10T09:47:33.234067Z"
    },
    "papermill": {
     "duration": 0.23321,
     "end_time": "2022-11-10T09:47:33.238734",
     "exception": false,
     "start_time": "2022-11-10T09:47:33.005524",
     "status": "completed"
    },
    "tags": []
   },
   "outputs": [
    {
     "data": {
      "text/plain": [
       "<AxesSubplot:xlabel='S_2'>"
      ]
     },
     "execution_count": 7,
     "metadata": {},
     "output_type": "execute_result"
    },
    {
     "data": {
      "image/png": "[encoded data removed]",
      "text/plain": [
       "<Figure size 432x288 with 1 Axes>"
      ]
     },
     "metadata": {
      "needs_background": "light"
     },
     "output_type": "display_data"
    }
   ],
   "source": [
    "#Two numerical and one categorical\n",
    "df.plot(x=\"S_2\", y=[\"P_2\", \"B_1\"],style='o')"
   ]
  },
  {
   "cell_type": "code",
   "execution_count": 8,
   "id": "4230dd57",
   "metadata": {
    "execution": {
     "iopub.execute_input": "2022-11-10T09:47:33.256560Z",
     "iopub.status.busy": "2022-11-10T09:47:33.256056Z",
     "iopub.status.idle": "2022-11-10T09:47:33.266372Z",
     "shell.execute_reply": "2022-11-10T09:47:33.264752Z"
    },
    "papermill": {
     "duration": 0.022575,
     "end_time": "2022-11-10T09:47:33.269323",
     "exception": false,
     "start_time": "2022-11-10T09:47:33.246748",
     "status": "completed"
    },
    "tags": []
   },
   "outputs": [
    {
     "data": {
      "text/plain": [
       "0      False\n",
       "1      False\n",
       "2      False\n",
       "3      False\n",
       "4      False\n",
       "       ...  \n",
       "195    False\n",
       "196    False\n",
       "197    False\n",
       "198    False\n",
       "199    False\n",
       "Name: D_39, Length: 200, dtype: bool"
      ]
     },
     "execution_count": 8,
     "metadata": {},
     "output_type": "execute_result"
    }
   ],
   "source": [
    "#Check null values in a column.\n",
    "df['D_39'].isnull()"
   ]
  },
  {
   "cell_type": "code",
   "execution_count": 9,
   "id": "296dd5ca",
   "metadata": {
    "execution": {
     "iopub.execute_input": "2022-11-10T09:47:33.289886Z",
     "iopub.status.busy": "2022-11-10T09:47:33.289257Z",
     "iopub.status.idle": "2022-11-10T09:47:33.299967Z",
     "shell.execute_reply": "2022-11-10T09:47:33.298656Z"
    },
    "papermill": {
     "duration": 0.023097,
     "end_time": "2022-11-10T09:47:33.302618",
     "exception": false,
     "start_time": "2022-11-10T09:47:33.279521",
     "status": "completed"
    },
    "tags": []
   },
   "outputs": [
    {
     "data": {
      "text/plain": [
       "3"
      ]
     },
     "execution_count": 9,
     "metadata": {},
     "output_type": "execute_result"
    }
   ],
   "source": [
    "#Check the cardinality of a categorical column.\n",
    "df['D_63'].nunique()"
   ]
  },
  {
   "cell_type": "code",
   "execution_count": null,
   "id": "1f9e2456",
   "metadata": {
    "papermill": {
     "duration": 0.008259,
     "end_time": "2022-11-10T09:47:33.319750",
     "exception": false,
     "start_time": "2022-11-10T09:47:33.311491",
     "status": "completed"
    },
    "tags": []
   },
   "outputs": [],
   "source": []
  },
  {
   "cell_type": "markdown",
   "id": "bb264963",
   "metadata": {
    "papermill": {
     "duration": 0.007815,
     "end_time": "2022-11-10T09:47:33.335553",
     "exception": false,
     "start_time": "2022-11-10T09:47:33.327738",
     "status": "completed"
    },
    "tags": []
   },
   "source": [
    "Titanic Disaster"
   ]
  },
  {
   "cell_type": "code",
   "execution_count": 10,
   "id": "88c2a606",
   "metadata": {
    "execution": {
     "iopub.execute_input": "2022-11-10T09:47:33.356399Z",
     "iopub.status.busy": "2022-11-10T09:47:33.354747Z",
     "iopub.status.idle": "2022-11-10T09:47:33.362173Z",
     "shell.execute_reply": "2022-11-10T09:47:33.360312Z"
    },
    "papermill": {
     "duration": 0.020549,
     "end_time": "2022-11-10T09:47:33.364984",
     "exception": false,
     "start_time": "2022-11-10T09:47:33.344435",
     "status": "completed"
    },
    "tags": []
   },
   "outputs": [],
   "source": [
    "import numpy as np \n",
    "import pandas as pd \n",
    "import matplotlib as plt"
   ]
  },
  {
   "cell_type": "code",
   "execution_count": 11,
   "id": "b9176780",
   "metadata": {
    "execution": {
     "iopub.execute_input": "2022-11-10T09:47:33.385050Z",
     "iopub.status.busy": "2022-11-10T09:47:33.383659Z",
     "iopub.status.idle": "2022-11-10T09:47:33.399790Z",
     "shell.execute_reply": "2022-11-10T09:47:33.398837Z"
    },
    "papermill": {
     "duration": 0.030267,
     "end_time": "2022-11-10T09:47:33.403663",
     "exception": false,
     "start_time": "2022-11-10T09:47:33.373396",
     "status": "completed"
    },
    "tags": []
   },
   "outputs": [],
   "source": [
    "df=pd.read_csv(\"../input/titanic/train.csv\")"
   ]
  },
  {
   "cell_type": "code",
   "execution_count": 12,
   "id": "e0a2ac3f",
   "metadata": {
    "execution": {
     "iopub.execute_input": "2022-11-10T09:47:33.423727Z",
     "iopub.status.busy": "2022-11-10T09:47:33.423264Z",
     "iopub.status.idle": "2022-11-10T09:47:33.441836Z",
     "shell.execute_reply": "2022-11-10T09:47:33.440505Z"
    },
    "papermill": {
     "duration": 0.031812,
     "end_time": "2022-11-10T09:47:33.444515",
     "exception": false,
     "start_time": "2022-11-10T09:47:33.412703",
     "status": "completed"
    },
    "tags": []
   },
   "outputs": [
    {
     "data": {
      "text/html": [
       "<div>\n",
       "<style scoped>\n",
       "    .dataframe tbody tr th:only-of-type {\n",
       "        vertical-align: middle;\n",
       "    }\n",
       "\n",
       "    .dataframe tbody tr th {\n",
       "        vertical-align: top;\n",
       "    }\n",
       "\n",
       "    .dataframe thead th {\n",
       "        text-align: right;\n",
       "    }\n",
       "</style>\n",
       "<table border=\"1\" class=\"dataframe\">\n",
       "  <thead>\n",
       "    <tr style=\"text-align: right;\">\n",
       "      <th></th>\n",
       "      <th>PassengerId</th>\n",
       "      <th>Survived</th>\n",
       "      <th>Pclass</th>\n",
       "      <th>Name</th>\n",
       "      <th>Sex</th>\n",
       "      <th>Age</th>\n",
       "      <th>SibSp</th>\n",
       "      <th>Parch</th>\n",
       "      <th>Ticket</th>\n",
       "      <th>Fare</th>\n",
       "      <th>Cabin</th>\n",
       "      <th>Embarked</th>\n",
       "    </tr>\n",
       "  </thead>\n",
       "  <tbody>\n",
       "    <tr>\n",
       "      <th>0</th>\n",
       "      <td>1</td>\n",
       "      <td>0</td>\n",
       "      <td>3</td>\n",
       "      <td>Braund, Mr. Owen Harris</td>\n",
       "      <td>male</td>\n",
       "      <td>22.0</td>\n",
       "      <td>1</td>\n",
       "      <td>0</td>\n",
       "      <td>A/5 21171</td>\n",
       "      <td>7.2500</td>\n",
       "      <td>NaN</td>\n",
       "      <td>S</td>\n",
       "    </tr>\n",
       "    <tr>\n",
       "      <th>1</th>\n",
       "      <td>2</td>\n",
       "      <td>1</td>\n",
       "      <td>1</td>\n",
       "      <td>Cumings, Mrs. John Bradley (Florence Briggs Th...</td>\n",
       "      <td>female</td>\n",
       "      <td>38.0</td>\n",
       "      <td>1</td>\n",
       "      <td>0</td>\n",
       "      <td>PC 17599</td>\n",
       "      <td>71.2833</td>\n",
       "      <td>C85</td>\n",
       "      <td>C</td>\n",
       "    </tr>\n",
       "    <tr>\n",
       "      <th>2</th>\n",
       "      <td>3</td>\n",
       "      <td>1</td>\n",
       "      <td>3</td>\n",
       "      <td>Heikkinen, Miss. Laina</td>\n",
       "      <td>female</td>\n",
       "      <td>26.0</td>\n",
       "      <td>0</td>\n",
       "      <td>0</td>\n",
       "      <td>STON/O2. 3101282</td>\n",
       "      <td>7.9250</td>\n",
       "      <td>NaN</td>\n",
       "      <td>S</td>\n",
       "    </tr>\n",
       "    <tr>\n",
       "      <th>3</th>\n",
       "      <td>4</td>\n",
       "      <td>1</td>\n",
       "      <td>1</td>\n",
       "      <td>Futrelle, Mrs. Jacques Heath (Lily May Peel)</td>\n",
       "      <td>female</td>\n",
       "      <td>35.0</td>\n",
       "      <td>1</td>\n",
       "      <td>0</td>\n",
       "      <td>113803</td>\n",
       "      <td>53.1000</td>\n",
       "      <td>C123</td>\n",
       "      <td>S</td>\n",
       "    </tr>\n",
       "    <tr>\n",
       "      <th>4</th>\n",
       "      <td>5</td>\n",
       "      <td>0</td>\n",
       "      <td>3</td>\n",
       "      <td>Allen, Mr. William Henry</td>\n",
       "      <td>male</td>\n",
       "      <td>35.0</td>\n",
       "      <td>0</td>\n",
       "      <td>0</td>\n",
       "      <td>373450</td>\n",
       "      <td>8.0500</td>\n",
       "      <td>NaN</td>\n",
       "      <td>S</td>\n",
       "    </tr>\n",
       "  </tbody>\n",
       "</table>\n",
       "</div>"
      ],
      "text/plain": [
       "   PassengerId  Survived  Pclass  \\\n",
       "0            1         0       3   \n",
       "1            2         1       1   \n",
       "2            3         1       3   \n",
       "3            4         1       1   \n",
       "4            5         0       3   \n",
       "\n",
       "                                                Name     Sex   Age  SibSp  \\\n",
       "0                            Braund, Mr. Owen Harris    male  22.0      1   \n",
       "1  Cumings, Mrs. John Bradley (Florence Briggs Th...  female  38.0      1   \n",
       "2                             Heikkinen, Miss. Laina  female  26.0      0   \n",
       "3       Futrelle, Mrs. Jacques Heath (Lily May Peel)  female  35.0      1   \n",
       "4                           Allen, Mr. William Henry    male  35.0      0   \n",
       "\n",
       "   Parch            Ticket     Fare Cabin Embarked  \n",
       "0      0         A/5 21171   7.2500   NaN        S  \n",
       "1      0          PC 17599  71.2833   C85        C  \n",
       "2      0  STON/O2. 3101282   7.9250   NaN        S  \n",
       "3      0            113803  53.1000  C123        S  \n",
       "4      0            373450   8.0500   NaN        S  "
      ]
     },
     "execution_count": 12,
     "metadata": {},
     "output_type": "execute_result"
    }
   ],
   "source": [
    "df.head()\n"
   ]
  },
  {
   "cell_type": "code",
   "execution_count": 13,
   "id": "8326968d",
   "metadata": {
    "execution": {
     "iopub.execute_input": "2022-11-10T09:47:33.464799Z",
     "iopub.status.busy": "2022-11-10T09:47:33.464374Z",
     "iopub.status.idle": "2022-11-10T09:47:33.682136Z",
     "shell.execute_reply": "2022-11-10T09:47:33.680655Z"
    },
    "papermill": {
     "duration": 0.230948,
     "end_time": "2022-11-10T09:47:33.684827",
     "exception": false,
     "start_time": "2022-11-10T09:47:33.453879",
     "status": "completed"
    },
    "tags": []
   },
   "outputs": [
    {
     "data": {
      "text/plain": [
       "<AxesSubplot:xlabel='PassengerId'>"
      ]
     },
     "execution_count": 13,
     "metadata": {},
     "output_type": "execute_result"
    },
    {
     "data": {
      "image/png": "[encoded data removed]",
      "text/plain": [
       "<Figure size 432x288 with 1 Axes>"
      ]
     },
     "metadata": {
      "needs_background": "light"
     },
     "output_type": "display_data"
    }
   ],
   "source": [
    "df.plot(x='PassengerId', y='Pclass',style=\"o\")\n"
   ]
  },
  {
   "cell_type": "code",
   "execution_count": 14,
   "id": "5ad3c13b",
   "metadata": {
    "execution": {
     "iopub.execute_input": "2022-11-10T09:47:33.704131Z",
     "iopub.status.busy": "2022-11-10T09:47:33.702905Z",
     "iopub.status.idle": "2022-11-10T09:47:33.899474Z",
     "shell.execute_reply": "2022-11-10T09:47:33.898296Z"
    },
    "papermill": {
     "duration": 0.209637,
     "end_time": "2022-11-10T09:47:33.902774",
     "exception": false,
     "start_time": "2022-11-10T09:47:33.693137",
     "status": "completed"
    },
    "tags": []
   },
   "outputs": [
    {
     "data": {
      "text/plain": [
       "<AxesSubplot:xlabel='Name'>"
      ]
     },
     "execution_count": 14,
     "metadata": {},
     "output_type": "execute_result"
    },
    {
     "data": {
      "image/png": "[encoded data removed]",
      "text/plain": [
       "<Figure size 432x288 with 1 Axes>"
      ]
     },
     "metadata": {
      "needs_background": "light"
     },
     "output_type": "display_data"
    }
   ],
   "source": [
    "df.plot(x='Name', y='Age', style='*')\n"
   ]
  },
  {
   "cell_type": "code",
   "execution_count": 15,
   "id": "e1079063",
   "metadata": {
    "execution": {
     "iopub.execute_input": "2022-11-10T09:47:33.922891Z",
     "iopub.status.busy": "2022-11-10T09:47:33.922483Z",
     "iopub.status.idle": "2022-11-10T09:47:34.103249Z",
     "shell.execute_reply": "2022-11-10T09:47:34.101546Z"
    },
    "papermill": {
     "duration": 0.195817,
     "end_time": "2022-11-10T09:47:34.107614",
     "exception": false,
     "start_time": "2022-11-10T09:47:33.911797",
     "status": "completed"
    },
    "tags": []
   },
   "outputs": [
    {
     "data": {
      "text/plain": [
       "<AxesSubplot:xlabel='Sex'>"
      ]
     },
     "execution_count": 15,
     "metadata": {},
     "output_type": "execute_result"
    },
    {
     "data": {
      "image/png": "[encoded data removed]",
      "text/plain": [
       "<Figure size 432x288 with 1 Axes>"
      ]
     },
     "metadata": {
      "needs_background": "light"
     },
     "output_type": "display_data"
    }
   ],
   "source": [
    "df.plot(x=\"Sex\", y=[\"PassengerId\", \"Survived\"],style='o')\n"
   ]
  },
  {
   "cell_type": "code",
   "execution_count": 16,
   "id": "34b4d3a3",
   "metadata": {
    "execution": {
     "iopub.execute_input": "2022-11-10T09:47:34.128453Z",
     "iopub.status.busy": "2022-11-10T09:47:34.127974Z",
     "iopub.status.idle": "2022-11-10T09:47:34.138673Z",
     "shell.execute_reply": "2022-11-10T09:47:34.137322Z"
    },
    "papermill": {
     "duration": 0.023738,
     "end_time": "2022-11-10T09:47:34.141067",
     "exception": false,
     "start_time": "2022-11-10T09:47:34.117329",
     "status": "completed"
    },
    "tags": []
   },
   "outputs": [
    {
     "data": {
      "text/plain": [
       "0       True\n",
       "1      False\n",
       "2       True\n",
       "3      False\n",
       "4       True\n",
       "       ...  \n",
       "886     True\n",
       "887    False\n",
       "888     True\n",
       "889    False\n",
       "890     True\n",
       "Name: Cabin, Length: 891, dtype: bool"
      ]
     },
     "execution_count": 16,
     "metadata": {},
     "output_type": "execute_result"
    }
   ],
   "source": [
    "df['Cabin'].isnull()\n"
   ]
  },
  {
   "cell_type": "code",
   "execution_count": 17,
   "id": "bbef1525",
   "metadata": {
    "execution": {
     "iopub.execute_input": "2022-11-10T09:47:34.162803Z",
     "iopub.status.busy": "2022-11-10T09:47:34.161967Z",
     "iopub.status.idle": "2022-11-10T09:47:34.171833Z",
     "shell.execute_reply": "2022-11-10T09:47:34.170753Z"
    },
    "papermill": {
     "duration": 0.02437,
     "end_time": "2022-11-10T09:47:34.175089",
     "exception": false,
     "start_time": "2022-11-10T09:47:34.150719",
     "status": "completed"
    },
    "tags": []
   },
   "outputs": [
    {
     "data": {
      "text/plain": [
       "3"
      ]
     },
     "execution_count": 17,
     "metadata": {},
     "output_type": "execute_result"
    }
   ],
   "source": [
    "df['Pclass'].nunique()\n"
   ]
  },
  {
   "cell_type": "code",
   "execution_count": null,
   "id": "a68e22d9",
   "metadata": {
    "papermill": {
     "duration": 0.009766,
     "end_time": "2022-11-10T09:47:34.194690",
     "exception": false,
     "start_time": "2022-11-10T09:47:34.184924",
     "status": "completed"
    },
    "tags": []
   },
   "outputs": [],
   "source": []
  }
 ],
 "metadata": {
  "kernelspec": {
   "display_name": "Python 3",
   "language": "python",
   "name": "python3"
  },
  "language_info": {
   "codemirror_mode": {
    "name": "ipython",
    "version": 3
   },
   "file_extension": ".py",
   "mimetype": "text/x-python",
   "name": "python",
   "nbconvert_exporter": "python",
   "pygments_lexer": "ipython3",
   "version": "3.7.12"
  },
  "papermill": {
   "default_parameters": {},
   "duration": 15.23395,
   "end_time": "2022-11-10T09:47:35.027845",
   "environment_variables": {},
   "exception": null,
   "input_path": "__notebook__.ipynb",
   "output_path": "__notebook__.ipynb",
   "parameters": {},
   "start_time": "2022-11-10T09:47:19.793895",
   "version": "2.3.4"
  }
 },
 "nbformat": 4,
 "nbformat_minor": 5
}
